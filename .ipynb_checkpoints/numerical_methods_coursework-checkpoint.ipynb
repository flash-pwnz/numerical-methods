{
 "cells": [
  {
   "cell_type": "markdown",
   "id": "f54a25a4-f251-4904-9406-928068e560db",
   "metadata": {
    "jp-MarkdownHeadingCollapsed": true,
    "tags": []
   },
   "source": [
    "# Numerical methods (Численные методы)"
   ]
  },
  {
   "cell_type": "markdown",
   "id": "914b21c9-ff32-4b62-addb-644d5f86a991",
   "metadata": {
    "tags": []
   },
   "source": [
    "# 1 задание \n",
    "\n",
    "Определить корни уравнения графически и уточнить один из них итерационными методами (методом деления отрезка пополам, методом простой итерации и методом Ньютона) с точностью 0,001:\n",
    "f(x) = x^3 + 7x - 7"
   ]
  },
  {
   "cell_type": "code",
   "execution_count": 1,
   "id": "ded7ef62-3fb9-4027-828c-5125f20a217f",
   "metadata": {},
   "outputs": [
    {
     "data": {
      "image/png": "[encoded data removed]",
      "text/plain": [
       "<Figure size 432x288 with 1 Axes>"
      ]
     },
     "metadata": {
      "needs_background": "light"
     },
     "output_type": "display_data"
    }
   ],
   "source": [
    "import math\n",
    "import numpy as np\n",
    "import matplotlib.pyplot as plt\n",
    "from scipy.interpolate import lagrange\n",
    "\n",
    "\n",
    "f = lambda x: x**3 + 7*x - 7\n",
    "\n",
    "# Создаем массив значений x\n",
    "x = np.linspace(-2, 2, 30)\n",
    "\n",
    "# Вычисляем значения функции для каждого значения x\n",
    "y = f(x)\n",
    "\n",
    "# Строим график\n",
    "plt.plot(x, y)\n",
    "\n",
    "# Добавляем заголовок и подписи осей\n",
    "plt.title('График функции f(x) = x**3 + 7*x - 7')\n",
    "plt.xlabel('x')\n",
    "plt.ylabel('f(x)')\n",
    "\n",
    "# Добавляем оси координат\n",
    "plt.axhline(y=0, color='k', lw=0.5)\n",
    "plt.axvline(x=0, color='k', lw=0.5)\n",
    "\n",
    "# Отображаем график\n",
    "plt.show()"
   ]
  },
  {
   "cell_type": "markdown",
   "id": "7147474b-0385-492a-aee4-2185e0f38796",
   "metadata": {
    "tags": []
   },
   "source": [
    "## метод деления отрезка пополам\n",
    "\n",
    "Метод деления отрезка пополам (или метод бисекции) - это простой численный метод для решения нелинейных уравнений. Он основан на теореме о промежуточных значениях и заключается в следующем:\n",
    "\n",
    "1. Выбирается начальный отрезок [a, b], на котором известно, что функция f(x) меняет знак.\n",
    "2. Находится середина отрезка c = (a + b) / 2 и вычисляется значение функции в этой точке f(c).\n",
    "3. Если f(c) равно нулю или достаточно близко к нулю, то метод завершается и возвращается значение c.\n",
    "4. Иначе выбирается половина отрезка, на которой функция меняет знак, и процесс повторяется с этой половиной.\n",
    "\n",
    "Этот процесс продолжается до тех пор, пока не будет достигнута требуемая точность или максимальное количество итераций.\n",
    "\n"
   ]
  },
  {
   "cell_type": "code",
   "execution_count": 2,
   "id": "f9403715-c9c0-4c98-a295-d321c8011170",
   "metadata": {},
   "outputs": [
    {
     "name": "stdout",
     "output_type": "stream",
     "text": [
      "Approximate root: 0.8968505859375\n",
      "Function value at root: -0.0006722250636812532\n"
     ]
    }
   ],
   "source": [
    "def bisection(f, a, b, tol, max_iter):\n",
    "    if f(a) * f(b) > 0:\n",
    "        raise ValueError(\"Function has same sign at endpoints\")\n",
    "    for i in range(max_iter):\n",
    "        c = (a + b) / 2\n",
    "        if abs(f(c)) < tol:\n",
    "            return c\n",
    "        elif f(a) * f(c) < 0:\n",
    "            b = c\n",
    "        else:\n",
    "            a = c\n",
    "    raise ValueError(\"Failed to converge\")\n",
    "\n",
    "\n",
    "a, b, tol, max_iter = 0, 1.5, 1e-3, 100\n",
    "root = bisection(f, a, b, tol, max_iter)\n",
    "\n",
    "# Print the approximate root and the value of the function at the root\n",
    "print(f\"Approximate root: {root}\")\n",
    "print(f\"Function value at root: {f(root)}\")"
   ]
  },
  {
   "cell_type": "markdown",
   "id": "65cd84ea-59b4-45e5-8e63-447e5c707a0c",
   "metadata": {},
   "source": [
    "## метод простой итерации \n",
    "\n",
    "Метод простой итерации - это численный метод для решения нелинейных уравнений вида x = g(x). Он основан на преобразовании уравнения в эквивалентное уравнение x = f(x), где f(x) = x - g(x).\n",
    "\n",
    "Процесс решения уравнения методом простой итерации заключается в следующем:\n",
    "\n",
    "1. Выбирается начальное приближение x0.\n",
    "2. Вычисляется следующее приближение x1 = g(x0).\n",
    "3. Процесс повторяется до тех пор, пока не будет достигнута требуемая точность или максимальное количество итераций.\n",
    "\n",
    "Если последовательность приближений x0, x1, x2, ... сходится к решению уравнения, то метод считается успешным."
   ]
  },
  {
   "cell_type": "code",
   "execution_count": 3,
   "id": "13bd37ea-7e6e-4d91-a959-02adf4058187",
   "metadata": {},
   "outputs": [
    {
     "name": "stdout",
     "output_type": "stream",
     "text": [
      "0.8971092932453049\n"
     ]
    }
   ],
   "source": [
    "def g(x):  # The basic idea is to transform the original equation f(x) = 0 into an equivalent equation x = g(x), \n",
    "    return (7 - x**3)/7\n",
    "\n",
    "def simple_iteration(guess, tol, max_iters):\n",
    "    x_prev = guess\n",
    "    for i in range(max_iters):\n",
    "        x_next = g(x_prev)\n",
    "        if abs(x_next - x_prev) < tol:\n",
    "            return x_next\n",
    "        x_prev = x_next\n",
    "    raise Exception(\"Failed to converge\")\n",
    "\n",
    "root = simple_iteration(1, tol, max_iter)\n",
    "print(root)"
   ]
  },
  {
   "cell_type": "markdown",
   "id": "d418ed3e-854b-4dec-94bf-8c6486192ba0",
   "metadata": {},
   "source": [
    "## метод Ньютона (или метод касательных)\n",
    "\n",
    "Метод Ньютона (или метод касательных) - это численный метод для решения нелинейных уравнений вида f(x) = 0. Он основан на разложении функции f(x) в ряд Тейлора в окрестности точки x0:\n",
    "\n",
    "    f(x) = f(x0) + f'(x0)(x - x0) + f''(x0)/2 (x - x0)^2 + ...\n",
    "\n",
    "Если мы ограничимся первым членом этого ряда, то получим линейное приближение к функции f(x):\n",
    "\n",
    "    f(x) ≈ f(x0) + f'(x0)(x - x0)\n",
    "Это линейное приближение можно приравнять к нулю и решить уравнение относительно x:\n",
    "\n",
    "    x = x0 - f(x0) / f'(x0)\n",
    "Это и есть формула метода Ньютона.\n",
    "\n",
    "Процесс решения уравнения методом Ньютона заключается в следующем:\n",
    "\n",
    "1. Выбирается начальное приближение x0.\n",
    "2. Вычисляется следующее приближение x1 = x0 - f(x0) / f'(x0).\n",
    "3. Процесс повторяется до тех пор, пока не будет достигнута требуемая точность или максимальное количество итераций.\n",
    "\n",
    "Если последовательность приближений x0, x1, x2, ... сходится к решению уравнения, то метод считается успешным."
   ]
  },
  {
   "cell_type": "code",
   "execution_count": 4,
   "id": "d202d09f-c118-4a15-b9f6-faf24ba5a810",
   "metadata": {},
   "outputs": [
    {
     "name": "stdout",
     "output_type": "stream",
     "text": [
      "Корень: 0.8969247083775186\n"
     ]
    }
   ],
   "source": [
    "def newton_method(f, df, x0, tol, max_iter):\n",
    "    \"\"\"\n",
    "    f: функция, корень которой мы ищем\n",
    "    df: производная функции f\n",
    "    x0: начальное значение для метода Ньютона\n",
    "    tol: погрешность\n",
    "    max_iter: максимальное количество итераций\n",
    "    \"\"\"\n",
    "    x = x0\n",
    "    for i in range(max_iter):\n",
    "        fx = f(x)\n",
    "        if abs(fx) < tol:\n",
    "            return x\n",
    "        dfx = df(x)\n",
    "        if dfx == 0:\n",
    "            break\n",
    "        x = x - fx / dfx\n",
    "    return None\n",
    "\n",
    "\n",
    "df = lambda x: 3*x**2 + 7\n",
    "\n",
    "# Вызываем метод Ньютона\n",
    "root = newton_method(f, df, 0, tol, max_iter)\n",
    "\n",
    "print(\"Корень:\", root)"
   ]
  },
  {
   "cell_type": "markdown",
   "id": "1448734f-3c95-4eee-ba5e-a5dce417d797",
   "metadata": {
    "tags": []
   },
   "source": [
    "# 2 задание. СЛАУ\n",
    "\n",
    "Решить систему уравнений \n",
    "1. методом Гаусса\n",
    "2. методом Зейделя с точностью до 0.0001"
   ]
  },
  {
   "cell_type": "markdown",
   "id": "8e8f7b89-0cf1-4509-a694-3c635d556133",
   "metadata": {},
   "source": [
    "Вот как это работает:\n",
    "\n",
    "1. Сначала мы делим каждую строку на первый элемент этой строки.\n",
    "2. Затем мы вычитаем первую строку из всех остальных строк, чтобы получить нули в первом столбце под первым элементом.\n",
    "3. Затем мы повторяем этот процесс для второго столбца и так далее до тех пор, пока не получим верхнетреугольную матрицу.\n",
    "4. Затем мы используем обратный ход для нахождения решения."
   ]
  },
  {
   "cell_type": "code",
   "execution_count": 5,
   "id": "c0afda6c-5754-4309-9a8a-3b73b521132a",
   "metadata": {},
   "outputs": [],
   "source": [
    "A = np.array([[7, 2, -1, 1, -1],\n",
    "              [0, -6, 1, 1, -2],\n",
    "              [-3, 1, 8, 1, 1],\n",
    "              [2, 2, -3, 9, 0],\n",
    "              [1, -2, -3, 1, -9]])\n",
    "b = np.array([54, 12, -3, 20, 31])"
   ]
  },
  {
   "cell_type": "markdown",
   "id": "e899ea53-9fd2-4ebc-972a-43960171d755",
   "metadata": {
    "tags": []
   },
   "source": [
    "## решение методом Гаусса"
   ]
  },
  {
   "cell_type": "code",
   "execution_count": 6,
   "id": "528c42e4-fe18-4358-9bd9-a1645e8a1917",
   "metadata": {},
   "outputs": [
    {
     "data": {
      "text/plain": [
       "array([ 7.55072175, -0.31739417,  2.61265217,  1.30179376, -3.09059453])"
      ]
     },
     "execution_count": 6,
     "metadata": {},
     "output_type": "execute_result"
    }
   ],
   "source": [
    "def gauss_elimination(A, b):\n",
    "    n = len(A)\n",
    "    A = A.astype('float64')  # Явное приведение типа данных\n",
    "    # Приводим матрицу коэффициентов к ступенчатому виду\n",
    "    for i in range(n):\n",
    "        # Поиск максимального элемента в столбце\n",
    "        max_row = i\n",
    "        for j in range(i+1, n):\n",
    "            if abs(A[j][i]) > abs(A[max_row][i]):\n",
    "                max_row = j\n",
    "        # Перестановка строк\n",
    "        A[i], A[max_row] = A[max_row], A[i]\n",
    "        b[i], b[max_row] = b[max_row], b[i]\n",
    "        # Проверка на ноль на главной диагонали\n",
    "        if A[i][i] == 0:\n",
    "            raise ValueError(\"Матрица A несовместна или имеет бесконечное множество решений.\")\n",
    "        # Приведение строки к ступенчатому виду\n",
    "        for j in range(i+1, n):\n",
    "            factor = A[j][i] / A[i][i]\n",
    "            A[j] -= factor * A[i]\n",
    "            b[j] -= factor * b[i]\n",
    "    # Решаем систему методом обратного хода\n",
    "    x = np.zeros(n)\n",
    "    for i in range(n-1, -1, -1):\n",
    "        x[i] = (b[i] - np.dot(A[i][i+1:], x[i+1:])) / A[i][i]\n",
    "    return x\n",
    "\n",
    "gauss_elimination(A, b)"
   ]
  },
  {
   "cell_type": "markdown",
   "id": "746a1040-56c7-44dc-bef4-c06da0a2f961",
   "metadata": {},
   "source": [
    "## метод Зейделя с точностью до 0.0001\n",
    "\n",
    "Метод Зейделя является итерационным методом решения систем линейных уравнений. Он работает путем последовательного приближенного вычисления компонент решения на каждой итерации.\n",
    "\n",
    "Идея метода Зейделя заключается в следующем: на каждой итерации мы вычисляем новые значения компонент решения последовательно, начиная с первой. При вычислении каждой компоненты мы используем уже вычисленные на текущей итерации значения других компонент. Таким образом, на каждой итерации мы уточняем значение каждой компоненты решения, основываясь на уже уточненных значениях других компонент.\n",
    "\n",
    "Алгоритм метода Зейделя состоит в следующем:\n",
    "\n",
    "1. Задать начальное приближение решения x.\n",
    "2. Повторять следующие действия до достижения требуемой точности или максимального числа итераций:\n",
    "    1. Вычислить новое приближение решения x_new:\n",
    "        1. Для каждой компоненты i вычислить сумму s1, состоящую из произведений элементов матрицы A[i][:i] на соответствующие компоненты вектора решения x_new с индексами до i (т.е. уже вычисленные на текущей итерации значения).\n",
    "        2. Для каждой компоненты i вычислить сумму s2, состоящую из произведений элементов матрицы A[i][i+1:] на соответствующие компоненты вектора решения x с индексами от i+1 до конца (т.е. старые значения, вычисленные на предыдущих итерациях).\n",
    "        3. Вычислить новое приближение x_new[i] как разность (b[i] - s1 - s2) / A[i][i].\n",
    "    2. Проверить, достигли ли мы требуемой точности: если норма разности ||x - x_new|| меньше заданной точности eps, то выйти из цикла.\n",
    "    3. Присвоить x значение x_new и перейти на следующую итерацию.\n",
    "3. Вернуть решение x.\n",
    "\n",
    "\n",
    "Метод Зейделя сходится не всегда и зависит от специфики системы уравнений, поэтому может потребоваться использовать другой метод, например, метод Гаусса."
   ]
  },
  {
   "cell_type": "code",
   "execution_count": 7,
   "id": "d35f7624-1868-48d6-818b-4513ccb516ff",
   "metadata": {},
   "outputs": [
    {
     "name": "stdout",
     "output_type": "stream",
     "text": [
      "Решение системы Ax=b:\n",
      "[ 7.62744008  0.54473935  5.94769177  1.61096849 -3.85490505]\n"
     ]
    }
   ],
   "source": [
    "import numpy as np\n",
    "\n",
    "def seidel(A, b, eps=1e-4, max_iter=1000):\n",
    "    n = len(A)\n",
    "    x = np.zeros(n)\n",
    "    for k in range(max_iter):\n",
    "        x_new = np.zeros(n)\n",
    "        for i in range(n):\n",
    "            s1 = np.dot(A[i][:i], x_new[:i])\n",
    "            s2 = np.dot(A[i][i+1:], x[i+1:])\n",
    "            x_new[i] = (b[i] - s1 - s2) / A[i][i]\n",
    "        if np.linalg.norm(x - x_new) < eps:\n",
    "            break\n",
    "        x = x_new\n",
    "    return x    \n",
    "    \n",
    "# Вызываем метод Зейделя\n",
    "x = seidel(A, b)\n",
    "\n",
    "# Выводим результат\n",
    "print(\"Решение системы Ax=b:\")\n",
    "print(x)"
   ]
  },
  {
   "cell_type": "markdown",
   "id": "099d8f5f-1cec-4d58-a309-7dd3896bb7de",
   "metadata": {
    "tags": []
   },
   "source": [
    "# 3 задание. Вычислить интеграл f(x)dx\n",
    "используя формулы трапеций и Симпсона, оценить погрешности вычислений.\n",
    "\n",
    "f(x) = x^3 + 7x - 7, верхняя граница a = 1, нижняя граница b = 2 + m/10, количество отрезков разбиения = 20."
   ]
  },
  {
   "cell_type": "code",
   "execution_count": 8,
   "id": "514f34b2-3a54-4c44-bcc1-9d2c6683e262",
   "metadata": {},
   "outputs": [],
   "source": [
    "f = lambda x: x**3 + 7*x - 7\n",
    "a, b, n = 1, 3.8, 20"
   ]
  },
  {
   "cell_type": "markdown",
   "id": "7771739c-7771-4148-af83-9d899f114f69",
   "metadata": {},
   "source": [
    "## Формула трапеций\n",
    "\n",
    "Функция trapezoidal_rule вычисляет приближенное значение интеграла методом трапеций с шагом h = (b - a) / n. В первом цикле мы вычисляем значение интеграла I1 с шагом h, а во втором цикле - значение интеграла I2 с шагом h / 2. После этого мы вычисляем погрешность метода Рунге как разницу между значениями интегралов I1 и I2, деленную на 3."
   ]
  },
  {
   "cell_type": "code",
   "execution_count": 9,
   "id": "602f0606-1deb-4422-840c-f92138fc4bc0",
   "metadata": {},
   "outputs": [
    {
     "name": "stdout",
     "output_type": "stream",
     "text": [
      "(79.38425599999998, 0.01646399999999441)\n"
     ]
    }
   ],
   "source": [
    "def trapezoidal_rule(f, a, b, n):\n",
    "    h = (b - a) / n\n",
    "    I1 = 0.5 * (f(a) + f(b))\n",
    "    for i in range(1, n):\n",
    "        x = a + i * h\n",
    "        I1 += f(x)\n",
    "    I1 *= h\n",
    "    I2 = 0.5 * (f(a) + f(b))\n",
    "    for i in range(1, 2 * n):\n",
    "        x = a + i * h / 2\n",
    "        I2 += f(x)\n",
    "    I2 *= h / 2\n",
    "    error = abs(I2 - I1) / 3\n",
    "    return I1, error\n",
    "\n",
    "print(trapezoidal_rule(f, a, b, n))"
   ]
  },
  {
   "cell_type": "markdown",
   "id": "4974d8ef-e4b2-47de-8bb2-24229ae98a64",
   "metadata": {},
   "source": [
    "## Формула Симпсона\n",
    "\n",
    "Формула Симпсона использует параболическую аппроксимацию подынтегральной функции на каждом шаге. Это означает, что формула Симпсона использует параболу для приближения подынтегральной функции на каждом шаге интегрирования.\n",
    "\n",
    "Формула Симпсона для вычисления интеграла от функции f(x) на отрезке [a,b] с четным числом узлов равна:\n",
    "\n",
    "∫[a,b]f(x)dx ≈ (b-a) / 6 * (f(a) + 4f((a+b)/2) + f(b))\n",
    "\n",
    "где (a+b)/2 - средняя точка отрезка [a,b].\n",
    "\n",
    "Если число узлов нечетно, то мы можем разбить отрезок на нечетное число интервалов и воспользоваться формулой Симпсона для каждого интервала, кроме последнего, где мы применяем формулу трапеций."
   ]
  },
  {
   "cell_type": "code",
   "execution_count": 10,
   "id": "2d9ed84c-f6f3-43c8-9cd6-45da20c4f8be",
   "metadata": {},
   "outputs": [
    {
     "name": "stdout",
     "output_type": "stream",
     "text": [
      "Приближенное значение интеграла: 79.31839999999998\n",
      "Оценка погрешности: 2.7032867555555544\n"
     ]
    }
   ],
   "source": [
    "def simpsons_rule(f, a, b, n):\n",
    "    \"\"\"\n",
    "    Вычисляет интеграл функции f на интервале [a, b] с использованием формулы Симпсона.\n",
    "\n",
    "    :param f: функция, которую нужно проинтегрировать.\n",
    "    :param a: левая граница интервала интегрирования.\n",
    "    :param b: правая граница интервала интегрирования.\n",
    "    :param n: количество интервалов, на которые нужно разбить [a, b].\n",
    "    :return: приближенное значение интеграла и погрешность.\n",
    "    \"\"\"\n",
    "    h = (b - a) / n  # Вычисляем шаг разбиения\n",
    "    x = np.linspace(a, b, n+1)  # Создаем сетку узлов\n",
    "    y = f(x)  # Вычисляем значения функции на сетке\n",
    "    integral_approx = h / 3 * np.sum(y[:-1:2] + 4*y[1::2] + y[2::2])  # Формула Симпсона\n",
    "    integral_approx_half = h / 6 * np.sum(f(x[:-1:2]) + 4*f((x[:-2:2] + x[2::2])/2) + f(x[1::2])) # Формула Симпсона для h/2\n",
    "    error = abs(integral_approx_half - integral_approx) / 15  # Погрешность Рунге\n",
    "    return integral_approx, error\n",
    "\n",
    "integral_approx, error = simpsons_rule(f, a, b, n)\n",
    "print(\"Приближенное значение интеграла:\", integral_approx)\n",
    "print(\"Оценка погрешности:\", error)"
   ]
  },
  {
   "cell_type": "markdown",
   "id": "8ad75c32-1e5c-4cbc-a06d-082349e1e63d",
   "metadata": {
    "tags": []
   },
   "source": [
    "# 4 задание."
   ]
  },
  {
   "cell_type": "markdown",
   "id": "8580e0e7-2299-4d17-86db-05b675b5edd2",
   "metadata": {},
   "source": [
    "## С помощью интерполяционных многочленов степени от 1 до 4 найти значения функции, заданной таблично\n",
    "\n",
    " \n",
    "\n",
    "\n",
    "Этот код определяет степень интерполяционного многочлена и вычисляет значение функции в точке x0.\n",
    "\n",
    "Цикл for перебирает значения от 1 до 4 включительно и для каждой степени интерполяционного многочлена вычисляет коэффициенты многочлена с помощью функции np.polyfit. Затем мы используем эти коэффициенты для вычисления значения функции в точке x0 с помощью функции np.polyval.\n",
    "\n",
    "Есть таблица значений функции, то вы можете использовать этот код для интерполяции значений функции в промежуточных точках."
   ]
  },
  {
   "cell_type": "code",
   "execution_count": 11,
   "id": "6ac254a7-29b4-4730-8916-9388a9a6706b",
   "metadata": {},
   "outputs": [
    {
     "name": "stdout",
     "output_type": "stream",
     "text": [
      "14.870600000000003\n",
      "13.74689999999999\n",
      "14.325765000000004\n",
      "14.52603375\n"
     ]
    }
   ],
   "source": [
    "# задаем табличную функцию\n",
    "x = np.array(list(range(-1, 4)))\n",
    "y = np.array([19.2, 15.1, 13.2, 14.76, 15.54])\n",
    "x0 = 1.9\n",
    "\n",
    "# Определяем степень интерполяционного многочлена\n",
    "for n in range(1, 5):\n",
    "\n",
    "    # Вычисляем коэффициенты интерполяционного многочлена\n",
    "    p = np.polyfit(x, y, n)\n",
    "\n",
    "    # Вычисляем значение функции в точке x0\n",
    "    x0 = 1.9\n",
    "    y0 = np.polyval(p, x0)\n",
    "\n",
    "    print(y0)"
   ]
  },
  {
   "cell_type": "markdown",
   "id": "ded70de4-3233-4a49-8db5-d3dbecfe90de",
   "metadata": {
    "tags": []
   },
   "source": [
    "# 5 задание\n",
    "\n",
    "## Решить задачу Коши\n",
    "1. методами Эйлера\n",
    "2. модифицированным методом Эйлера\n",
    "3. методом Рунге-Кутты 4-го порядка на заданном отрезке\n",
    "\n",
    "и оценить погрешность:\n",
    "y'=x+2y, \ty(0)= -1, \tx принадлежит [0;2], \th=0,25 \n"
   ]
  },
  {
   "cell_type": "code",
   "execution_count": 12,
   "id": "dfc57101-0c0e-46cd-af72-997bea28ebd5",
   "metadata": {},
   "outputs": [],
   "source": [
    "def f(x, y):\n",
    "    return x + 2*y\n",
    "x0, y0 = 0, -1\n",
    "xf = 2\n",
    "h = 0.25"
   ]
  },
  {
   "cell_type": "markdown",
   "id": "e5195612-37ce-4192-8cd2-933860d06625",
   "metadata": {
    "tags": []
   },
   "source": [
    "## Методом Эйлера\n",
    "\n",
    "Для решения задачи Коши методом Эйлера сначала необходимо записать дифференциальное уравнение в виде системы уравнений первого порядка:\n",
    "\n",
    "y' = f(x, y)\n",
    "\n",
    "где y - искомая функция, f(x, y) - правая часть дифференциального уравнения.\n",
    "\n",
    "Для решения системы уравнений первого порядка методом Эйлера используется следующий алгоритм:\n",
    "\n",
    "1. Задать начальные условия y(x0) = y0, где x0 - начальная точка, y0 - начальное значение функции.\n",
    "2. Задать шаг h.\n",
    "3. Найти значение y(x+h) методом Эйлера, используя формулу: y(x+h) = y(x) + h * f(x, y)\n",
    "4. Повторять шаг 3, пока x не достигнет конечной точки."
   ]
  },
  {
   "cell_type": "markdown",
   "id": "0ee52b2d-77cb-4177-9922-45c756039cc5",
   "metadata": {},
   "source": [
    "### Погрешность\n",
    "Для оценки погрешности метода Эйлера с пересчетом можно использовать формулу Рунге-Ромберга:\n",
    "\n",
    "err = |y(x+h) - y(x+h/2)| / (2^p - 1)\n",
    "\n",
    "где p - порядок метода (в данном случае p=2), y(x+h) - значение функции, найденное модифицированным методом Эйлера, y(x+h/2) - значение функции, найденное методом Эйлера с половинным шагом.\n",
    "\n",
    "Погрешность будет выведена на график в правом нижнем углу."
   ]
  },
  {
   "cell_type": "code",
   "execution_count": 13,
   "id": "bb28df48-6b47-463f-ad0b-ef73663e16ec",
   "metadata": {},
   "outputs": [
    {
     "data": {
      "image/png": "[encoded data removed]",
      "text/plain": [
       "<Figure size 432x288 with 1 Axes>"
      ]
     },
     "metadata": {
      "needs_background": "light"
     },
     "output_type": "display_data"
    }
   ],
   "source": [
    "# Создаем массивы для значений x и y\n",
    "x = np.arange(x0, xf + h, h)\n",
    "y = np.zeros_like(x)\n",
    "\n",
    "# Задаем начальное значение y\n",
    "y[0] = y0\n",
    "\n",
    "# Решаем дифференциальное уравнение методом Эйлера\n",
    "for i in range(1, len(x)):\n",
    "    y[i] = y[i-1] + h * f(x[i-1], y[i-1])\n",
    "\n",
    "# Вычисляем значение функции на двойном шаге h\n",
    "x_double = np.arange(x0, xf + 2*h, 2*h)\n",
    "y_double = np.zeros_like(x_double)\n",
    "y_double[0] = y0\n",
    "for i in range(1, len(x_double)):\n",
    "    y_double[i] = y_double[i-1] + 2*h * f(x_double[i-1], y_double[i-1])\n",
    "\n",
    "# Вычисляем погрешность метода Эйлера\n",
    "err = np.abs(y[-1] - y_double[-1]) / (2**1 - 1)\n",
    "\n",
    "# Строим график решения\n",
    "plt.plot(x, y, label=\"Euler's method\")\n",
    "plt.legend()\n",
    "\n",
    "# Выводим погрешность на график\n",
    "plt.text(xf, y[-1], f\"Error = {err:.4f}\", ha=\"right\", va=\"bottom\")\n",
    "\n",
    "plt.show()"
   ]
  },
  {
   "cell_type": "markdown",
   "id": "f6a32e46-c4d1-4e8f-9830-d57dd674961e",
   "metadata": {},
   "source": [
    "## модифицированным методом Эйлера\n",
    "\n",
    "Модифицированный метод Эйлера, также известный как метод Эйлера с пересчетом, является усовершенствованным вариантом обычного метода Эйлера. Он учитывает нелинейность дифференциального уравнения и дает более точное приближенное решение. Вот алгоритм модифицированного метода Эйлера для решения задачи Коши:\n",
    "\n",
    "1. Задать начальные условия y(x0) = y0, где x0 - начальная точка, y0 - начальное значение функции.\n",
    "2. Задать шаг h.\n",
    "3. Найти значение y(x+h/2) методом Эйлера, используя формулу:\n",
    "\n",
    "\n",
    "y_temp = y(x) + h/2 * f(x, y)\n",
    "\n",
    "\n",
    "y(x+h/2) = y(x) + h/2 * f(x, y) + h/2 * f(x+h/2, y_temp)\n",
    "\n",
    "\n",
    "4. Найти значение y(x+h) методом Эйлера, используя формулу:\n",
    "\n",
    "y(x+h) = y(x) + h * f(x+h/2, y_temp)\n",
    "\n",
    "5. Повторять шаги 3-4, пока x не достигнет конечной точки.\n",
    "\n",
    "Для оценки погрешности метода Эйлера можно использовать ту же формулу Рунге-Ромберга:"
   ]
  },
  {
   "cell_type": "code",
   "execution_count": 14,
   "id": "4d734840-7062-411d-b9b5-c0c570a30422",
   "metadata": {},
   "outputs": [
    {
     "data": {
      "image/png": "[encoded data removed]",
      "text/plain": [
       "<Figure size 432x288 with 1 Axes>"
      ]
     },
     "metadata": {
      "needs_background": "light"
     },
     "output_type": "display_data"
    }
   ],
   "source": [
    "# Создаем массивы для значений x и y\n",
    "x = np.arange(x0, xf + h, h)\n",
    "y = np.zeros_like(x)\n",
    "\n",
    "# Задаем начальное значение y\n",
    "y[0] = y0\n",
    "\n",
    "# Решаем дифференциальное уравнение модифицированным методом Эйлера\n",
    "for i in range(1, len(x)):\n",
    "    y_temp = y[i-1] + h/2 * f(x[i-1], y[i-1])\n",
    "    y[i] = y[i-1] + h * f(x[i-1] + h/2, y_temp)\n",
    "\n",
    "# Вычисляем значение функции с половинным шагом\n",
    "x_half = np.arange(x0, xf + h/2, h/2)\n",
    "y_half = np.zeros_like(x_half)\n",
    "y_half[0] = y0\n",
    "for i in range(1, len(x_half)):\n",
    "    y_half[i] = y_half[i-1] + h/2 * f(x_half[i-1], y_half[i-1])\n",
    "\n",
    "# Вычисляем погрешность\n",
    "err = np.abs(y[-1] - y_half[-1]) / (2**2 - 1)\n",
    "\n",
    "# Строим график решения\n",
    "plt.plot(x, y, label=\"Modified Euler's method\")\n",
    "plt.legend()\n",
    "\n",
    "# Выводим погрешность на график\n",
    "plt.text(xf, y[-1], f\"Error = {err:.4f}\", ha=\"right\", va=\"bottom\")\n",
    "\n",
    "plt.show()"
   ]
  },
  {
   "cell_type": "markdown",
   "id": "960c3fc2-d576-41f5-8664-e5c1cf8bf10d",
   "metadata": {},
   "source": [
    "## метод Рунге-Кутты 4-го порядка на заданном отрезке\n",
    "\n",
    "Для решения задачи Коши методом Рунге-Кутты 4-го порядка на заданном отрезке необходимо выполнить следующие шаги:\n",
    "\n",
    "1. Определить правую часть дифференциального уравнения.\n",
    "2. Задать начальные условия.\n",
    "3. Задать конечную точку отрезка и шаг.\n",
    "4. Решить дифференциальное уравнение методом Рунге-Кутты 4-го порядка.\n",
    "5. Вычислить погрешность.\n",
    "\n",
    "Метод Рунге-Кутты 4-го порядка в точке xi основывается на вычислении четырех коэффициентов k1, k2, k3 и k4, которые определяются следующим образом:\n",
    "\n",
    "k1 = f(xi, yi)\n",
    "k2 = f(xi + h/2, yi + h/2 * k1)\n",
    "k3 = f(xi + h/2, yi + h/2 * k2)\n",
    "k4 = f(xi + h, yi + h * k3)\n",
    "\n",
    "Затем находим значение y(xi+1) следующим образом:\n",
    "\n",
    "yi+1 = yi + h/6 * (k1 + 2k2 + 2k3 + k4)\n",
    "\n",
    "После вычисления значения функции y(xi+1) в точке xi+1, шаг повторяется для следующей точки xi+1, и так до достижения конца отрезка xn."
   ]
  },
  {
   "cell_type": "code",
   "execution_count": 15,
   "id": "8b2bbcbe-e9de-4e86-a506-501a75b661ce",
   "metadata": {},
   "outputs": [
    {
     "data": {
      "image/png": "[encoded data removed]",
      "text/plain": [
       "<Figure size 432x288 with 1 Axes>"
      ]
     },
     "metadata": {
      "needs_background": "light"
     },
     "output_type": "display_data"
    }
   ],
   "source": [
    "import numpy as np\n",
    "import matplotlib.pyplot as plt\n",
    "\n",
    "def f(x, y):\n",
    "    return x + 2*y\n",
    "\n",
    "x0, y0 = 0, -1\n",
    "xf = 2\n",
    "h = 0.25\n",
    "\n",
    "# Создаем массивы для значений x и y\n",
    "x = np.arange(x0, xf + h, h)\n",
    "y = np.zeros_like(x)\n",
    "\n",
    "# Задаем начальное значение y\n",
    "y[0] = y0\n",
    "\n",
    "# Решаем дифференциальное уравнение методом Рунге-Кутты 4-го порядка\n",
    "for i in range(1, len(x)):\n",
    "    k1 = h * f(x[i-1], y[i-1])\n",
    "    k2 = h * f(x[i-1] + h/2, y[i-1] + k1/2)\n",
    "    k3 = h * f(x[i-1] + h/2, y[i-1] + k2/2)\n",
    "    k4 = h * f(x[i-1] + h, y[i-1] + k3)\n",
    "    y[i] = y[i-1] + 1/6 * (k1 + 2*k2 + 2*k3 + k4)\n",
    "\n",
    "# Вычисляем значение функции с двумя шагами h\n",
    "y_double = np.zeros_like(x)\n",
    "y_double[0] = y0\n",
    "for i in range(1, len(x)):\n",
    "    k1 = h/2 * f(x[i-1], y_double[i-1])\n",
    "    k2 = h/2 * f(x[i-1] + 2*h/2, y_double[i-1] + k1/2)\n",
    "    k3 = h/2 * f(x[i-1] + 2*h/2, y_double[i-1] + k2/2)\n",
    "    k4 = h/2 * f(x[i-1] + 2*h, y_double[i-1] + k3)\n",
    "    y_double[i] = y_double[i-1] + 1/6 * (k1 + 2*k2 + 2*k3 + k4)\n",
    "\n",
    "# Вычисляем погрешность\n",
    "err = np.abs(y[-1] - y_double[-1]) / (2**4 - 1)\n",
    "\n",
    "# Строим график решения\n",
    "plt.plot(x, y, label=\"Runge-Kutta method\")\n",
    "plt.legend()\n",
    "\n",
    "# Выводим погрешность на график\n",
    "plt.text(xf, y[-1], f\"Error = {err:.4f}\", ha=\"right\", va=\"bottom\")\n",
    "\n",
    "plt.show()"
   ]
  }
 ],
 "metadata": {
  "kernelspec": {
   "display_name": "Python 3 (ipykernel)",
   "language": "python",
   "name": "python3"
  },
  "language_info": {
   "codemirror_mode": {
    "name": "ipython",
    "version": 3
   },
   "file_extension": ".py",
   "mimetype": "text/x-python",
   "name": "python",
   "nbconvert_exporter": "python",
   "pygments_lexer": "ipython3",
   "version": "3.9.7"
  }
 },
 "nbformat": 4,
 "nbformat_minor": 5
}
